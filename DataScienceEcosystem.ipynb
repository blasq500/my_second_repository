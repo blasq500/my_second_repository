{
 "cells": [
  {
   "cell_type": "markdown",
   "id": "04164c64-0a86-4e03-96dc-1cd6dfe25f84",
   "metadata": {},
   "source": [
    "# Data Science Tools and Ecosystem"
   ]
  },
  {
   "cell_type": "markdown",
   "id": "181a12b0-91f6-41d2-8ad1-02301e4f6c79",
   "metadata": {},
   "source": [
    "In this notebook, Data Science Tools and Ecosystem are summarized."
   ]
  },
  {
   "cell_type": "markdown",
   "id": "a6cebccf-bcbe-4bb9-9049-b5702802a23e",
   "metadata": {},
   "source": [
    "**Objectives:**\n",
    "- List some of the most popular languages for Data Science\n",
    "- List some of the most popular libraries for Data Science\n",
    "- Practice creating markdown cells in a Jupyter Notebook\n",
    "- Practice creating code cells in a Jupyter Notebook"
   ]
  },
  {
   "cell_type": "markdown",
   "id": "bb044102-e137-4658-985f-f769029f2268",
   "metadata": {},
   "source": [
    "## Author\n",
    "Alejandro Blasco Gallego"
   ]
  },
  {
   "attachments": {},
   "cell_type": "markdown",
   "id": "0c6c94b1-ac26-482f-a8ce-f857d799b136",
   "metadata": {},
   "source": [
    "Some of the popular languages that Data Scientists use are:\r",
    "1. Python\n",
    "2. R\n",
    "3. SQL\n"
   ]
  },
  {
   "cell_type": "markdown",
   "id": "d937e754-71f9-4361-a927-933f2c71245d",
   "metadata": {},
   "source": [
    "Some of the commonly used libraries used by Data Scientists include:\r",
    "1. Numpy\n",
    "2. Matplotlib\n",
    "3. Scipy\n"
   ]
  },
  {
   "cell_type": "markdown",
   "id": "08b80cfd-541f-47d0-9839-c56f7f611bc8",
   "metadata": {},
   "source": [
    "|Data Science Tools|\n",
    "|---|\n",
    "|Jupyter Notebooks|\n",
    "|RStudio|\n",
    "|Apache Zeppelin|"
   ]
  },
  {
   "cell_type": "markdown",
   "id": "4fa09443-3ee5-4e10-a98a-2f68e20ed26f",
   "metadata": {},
   "source": [
    "### Below are a few examples of evaluating arithmetic expressions in Python.\n"
   ]
  },
  {
   "cell_type": "code",
   "execution_count": 8,
   "id": "ce7ee211-7346-4132-a9f8-0c6c55e83af7",
   "metadata": {},
   "outputs": [
    {
     "data": {
      "text/plain": [
       "17"
      ]
     },
     "execution_count": 8,
     "metadata": {},
     "output_type": "execute_result"
    }
   ],
   "source": [
    "#This a simple arithmetic expression to mutiply then add integers\n",
    "(3*4)+5"
   ]
  },
  {
   "cell_type": "code",
   "execution_count": 10,
   "id": "3aac4db0-ac20-400d-8122-c109706e065e",
   "metadata": {},
   "outputs": [
    {
     "data": {
      "text/plain": [
       "3.3333333333333335"
      ]
     },
     "execution_count": 10,
     "metadata": {},
     "output_type": "execute_result"
    }
   ],
   "source": [
    "#This will convert 200 minutes to hours by diving by 60\n",
    "200/60"
   ]
  },
  {
   "cell_type": "markdown",
   "id": "16958f02-1cc1-407a-8929-5c6b5f154663",
   "metadata": {},
   "source": []
  }
 ],
 "metadata": {
  "kernelspec": {
   "display_name": "Python 3 (ipykernel)",
   "language": "python",
   "name": "python3"
  },
  "language_info": {
   "codemirror_mode": {
    "name": "ipython",
    "version": 3
   },
   "file_extension": ".py",
   "mimetype": "text/x-python",
   "name": "python",
   "nbconvert_exporter": "python",
   "pygments_lexer": "ipython3",
   "version": "3.12.4"
  }
 },
 "nbformat": 4,
 "nbformat_minor": 5
}
